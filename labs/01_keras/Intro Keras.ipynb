{
 "cells": [
  {
   "cell_type": "markdown",
   "metadata": {
    "collapsed": true
   },
   "source": [
    "###### Training Neural Networks with Keras\n",
    "\n",
    "### Goals: \n",
    "- Intro: train a neural network with high level framework `Keras`\n",
    "\n",
    "### Dataset:\n",
    "- Digits: 10 class handwritten digits\n",
    "- http://scikit-learn.org/stable/modules/generated/sklearn.datasets.load_digits.html#sklearn.datasets.load_digits"
   ]
  },
  {
   "cell_type": "code",
   "execution_count": 1,
   "metadata": {},
   "outputs": [],
   "source": [
    "%matplotlib inline \n",
    "# display figures in the notebook\n",
    "import matplotlib.pyplot as plt\n",
    "import numpy as np\n",
    "from sklearn.datasets import load_digits\n",
    "\n",
    "digits = load_digits()"
   ]
  },
  {
   "cell_type": "code",
   "execution_count": 2,
   "metadata": {},
   "outputs": [
    {
     "data": {
      "image/png": "[encoded data removed]",
      "text/plain": [
       "<Figure size 216x216 with 1 Axes>"
      ]
     },
     "metadata": {
      "needs_background": "light"
     },
     "output_type": "display_data"
    }
   ],
   "source": [
    "sample_index = 45\n",
    "plt.figure(figsize=(3, 3))\n",
    "plt.imshow(digits.images[sample_index], cmap=plt.cm.gray_r,\n",
    "           interpolation='nearest')\n",
    "plt.title(\"image label: %d\" % digits.target[sample_index]);"
   ]
  },
  {
   "cell_type": "markdown",
   "metadata": {},
   "source": [
    "### Preprocessing\n",
    "\n",
    "- normalization\n",
    "- train/test split"
   ]
  },
  {
   "cell_type": "code",
   "execution_count": 3,
   "metadata": {},
   "outputs": [],
   "source": [
    "from sklearn import preprocessing\n",
    "from sklearn.model_selection import train_test_split\n",
    "\n",
    "data = np.asarray(digits.data, dtype='float32')\n",
    "target = np.asarray(digits.target, dtype='int32')\n",
    "\n",
    "X_train, X_test, y_train, y_test = train_test_split(\n",
    "    data, target, test_size=0.15, random_state=37)\n",
    "\n",
    "# mean = 0 ; standard deviation = 1.0\n",
    "scaler = preprocessing.StandardScaler()\n",
    "X_train = scaler.fit_transform(X_train)\n",
    "X_test = scaler.transform(X_test)\n",
    "\n",
    "# print(scaler.mean_)\n",
    "# print(scaler.scale_)"
   ]
  },
  {
   "cell_type": "markdown",
   "metadata": {},
   "source": [
    "Let's display the one of the transformed sample (after feature standardization):"
   ]
  },
  {
   "cell_type": "code",
   "execution_count": 4,
   "metadata": {},
   "outputs": [
    {
     "data": {
      "image/png": "[encoded data removed]",
      "text/plain": [
       "<Figure size 216x216 with 1 Axes>"
      ]
     },
     "metadata": {
      "needs_background": "light"
     },
     "output_type": "display_data"
    }
   ],
   "source": [
    "sample_index = 45\n",
    "plt.figure(figsize=(3, 3))\n",
    "plt.imshow(X_train[sample_index].reshape(8, 8),\n",
    "           cmap=plt.cm.gray_r, interpolation='nearest')\n",
    "plt.title(\"transformed sample\\n(standardization)\");"
   ]
  },
  {
   "cell_type": "markdown",
   "metadata": {},
   "source": [
    "The scaler objects makes it possible to recover the original sample:"
   ]
  },
  {
   "cell_type": "code",
   "execution_count": 5,
   "metadata": {},
   "outputs": [
    {
     "data": {
      "image/png": "[encoded data removed]",
      "text/plain": [
       "<Figure size 216x216 with 1 Axes>"
      ]
     },
     "metadata": {
      "needs_background": "light"
     },
     "output_type": "display_data"
    }
   ],
   "source": [
    "plt.figure(figsize=(3, 3))\n",
    "plt.imshow(scaler.inverse_transform(X_train[sample_index]).reshape(8, 8),\n",
    "           cmap=plt.cm.gray_r, interpolation='nearest')\n",
    "plt.title(\"original sample\");"
   ]
  },
  {
   "cell_type": "code",
   "execution_count": 6,
   "metadata": {},
   "outputs": [
    {
     "name": "stdout",
     "output_type": "stream",
     "text": [
      "(1527, 64) (1527,)\n"
     ]
    }
   ],
   "source": [
    "print(X_train.shape, y_train.shape)"
   ]
  },
  {
   "cell_type": "code",
   "execution_count": 7,
   "metadata": {},
   "outputs": [
    {
     "name": "stdout",
     "output_type": "stream",
     "text": [
      "(270, 64) (270,)\n"
     ]
    }
   ],
   "source": [
    "print(X_test.shape, y_test.shape)"
   ]
  },
  {
   "cell_type": "markdown",
   "metadata": {},
   "source": [
    "# I) Feed Forward NN with Keras\n",
    "\n",
    "Objectives of this section:\n",
    "\n",
    "- Build and train a first feedforward network using `Keras`\n",
    "    - https://keras.io/getting-started/sequential-model-guide/\n",
    "- Experiment with different optimizers, activations, size of layers, initializations\n",
    "\n",
    "### a) Keras Workflow"
   ]
  },
  {
   "cell_type": "markdown",
   "metadata": {},
   "source": [
    "To build a first neural network we need to turn the target variable into a vector \"one-hot-encoding\" representation. Here are the labels of the first samples in the training set encoded as integers:"
   ]
  },
  {
   "cell_type": "code",
   "execution_count": 8,
   "metadata": {},
   "outputs": [
    {
     "data": {
      "text/plain": [
       "array([2, 9, 5], dtype=int32)"
      ]
     },
     "execution_count": 8,
     "metadata": {},
     "output_type": "execute_result"
    }
   ],
   "source": [
    "y_train[:3]"
   ]
  },
  {
   "cell_type": "markdown",
   "metadata": {},
   "source": [
    "Keras provides a utility function to convert integer-encoded categorical variables as one-hot encoded values:"
   ]
  },
  {
   "cell_type": "code",
   "execution_count": 9,
   "metadata": {},
   "outputs": [
    {
     "name": "stderr",
     "output_type": "stream",
     "text": [
      "Using TensorFlow backend.\n"
     ]
    },
    {
     "data": {
      "text/plain": [
       "array([[0., 0., 1., 0., 0., 0., 0., 0., 0., 0.],\n",
       "       [0., 0., 0., 0., 0., 0., 0., 0., 0., 1.],\n",
       "       [0., 0., 0., 0., 0., 1., 0., 0., 0., 0.]], dtype=float32)"
      ]
     },
     "execution_count": 9,
     "metadata": {},
     "output_type": "execute_result"
    }
   ],
   "source": [
    "import keras\n",
    "from keras.utils.np_utils import to_categorical\n",
    "\n",
    "Y_train = to_categorical(y_train)\n",
    "Y_train[:3]"
   ]
  },
  {
   "cell_type": "markdown",
   "metadata": {},
   "source": [
    "We can now build an train a our first feed forward neural network using the high level API from keras:\n",
    "\n",
    "- first we define the model by stacking layers with the right dimensions\n",
    "- then we define a loss function and plug the SGD optimizer\n",
    "- then we feed the model the training data for fixed number of epochs"
   ]
  },
  {
   "cell_type": "code",
   "execution_count": 21,
   "metadata": {
    "scrolled": true
   },
   "outputs": [
    {
     "name": "stdout",
     "output_type": "stream",
     "text": [
      "Epoch 1/100\n",
      "1527/1527 [==============================] - 0s 207us/step - loss: 0.5480 - acc: 0.8441\n",
      "Epoch 2/100\n",
      "1527/1527 [==============================] - 0s 39us/step - loss: 0.1538 - acc: 0.9607\n",
      "Epoch 3/100\n",
      "1527/1527 [==============================] - 0s 39us/step - loss: 0.1027 - acc: 0.9718\n",
      "Epoch 4/100\n",
      "1527/1527 [==============================] - 0s 42us/step - loss: 0.0838 - acc: 0.9902\n",
      "Epoch 5/100\n",
      "1527/1527 [==============================] - 0s 42us/step - loss: 0.0708 - acc: 0.9935\n",
      "Epoch 6/100\n",
      "1527/1527 [==============================] - 0s 42us/step - loss: 0.0560 - acc: 0.9967\n",
      "Epoch 7/100\n",
      "1527/1527 [==============================] - 0s 39us/step - loss: 0.0546 - acc: 0.9967\n",
      "Epoch 8/100\n",
      "1527/1527 [==============================] - 0s 36us/step - loss: 0.0541 - acc: 0.9967\n",
      "Epoch 9/100\n",
      "1527/1527 [==============================] - 0s 48us/step - loss: 0.0539 - acc: 0.9967\n",
      "Epoch 10/100\n",
      "1527/1527 [==============================] - 0s 36us/step - loss: 0.0538 - acc: 0.9967\n",
      "Epoch 11/100\n",
      "1527/1527 [==============================] - 0s 38us/step - loss: 0.0536 - acc: 0.9967\n",
      "Epoch 12/100\n",
      "1527/1527 [==============================] - 0s 35us/step - loss: 0.0536 - acc: 0.9967\n",
      "Epoch 13/100\n",
      "1527/1527 [==============================] - 0s 31us/step - loss: 0.0535 - acc: 0.9967\n",
      "Epoch 14/100\n",
      "1527/1527 [==============================] - 0s 31us/step - loss: 0.0535 - acc: 0.9967\n",
      "Epoch 15/100\n",
      "1527/1527 [==============================] - 0s 31us/step - loss: 0.0534 - acc: 0.9967\n",
      "Epoch 16/100\n",
      "1527/1527 [==============================] - 0s 34us/step - loss: 0.0534 - acc: 0.9967\n",
      "Epoch 17/100\n",
      "1527/1527 [==============================] - 0s 38us/step - loss: 0.0533 - acc: 0.9967\n",
      "Epoch 18/100\n",
      "1527/1527 [==============================] - 0s 30us/step - loss: 0.0533 - acc: 0.9967\n",
      "Epoch 19/100\n",
      "1527/1527 [==============================] - 0s 30us/step - loss: 0.0533 - acc: 0.9967\n",
      "Epoch 20/100\n",
      "1527/1527 [==============================] - 0s 30us/step - loss: 0.0533 - acc: 0.9967\n",
      "Epoch 21/100\n",
      "1527/1527 [==============================] - 0s 30us/step - loss: 0.0532 - acc: 0.9967\n",
      "Epoch 22/100\n",
      "1527/1527 [==============================] - 0s 30us/step - loss: 0.0532 - acc: 0.9967\n",
      "Epoch 23/100\n",
      "1527/1527 [==============================] - 0s 30us/step - loss: 0.0532 - acc: 0.9967\n",
      "Epoch 24/100\n",
      "1527/1527 [==============================] - 0s 30us/step - loss: 0.0532 - acc: 0.9967\n",
      "Epoch 25/100\n",
      "1527/1527 [==============================] - 0s 30us/step - loss: 0.0532 - acc: 0.9967\n",
      "Epoch 26/100\n",
      "1527/1527 [==============================] - 0s 33us/step - loss: 0.0532 - acc: 0.9967\n",
      "Epoch 27/100\n",
      "1527/1527 [==============================] - 0s 34us/step - loss: 0.0531 - acc: 0.9967\n",
      "Epoch 28/100\n",
      "1527/1527 [==============================] - 0s 30us/step - loss: 0.0531 - acc: 0.9967\n",
      "Epoch 29/100\n",
      "1527/1527 [==============================] - 0s 30us/step - loss: 0.0531 - acc: 0.9967\n",
      "Epoch 30/100\n",
      "1527/1527 [==============================] - 0s 30us/step - loss: 0.0531 - acc: 0.9967\n",
      "Epoch 31/100\n",
      "1527/1527 [==============================] - 0s 32us/step - loss: 0.0531 - acc: 0.9967\n",
      "Epoch 32/100\n",
      "1527/1527 [==============================] - 0s 32us/step - loss: 0.0531 - acc: 0.9967\n",
      "Epoch 33/100\n",
      "1527/1527 [==============================] - 0s 34us/step - loss: 0.0531 - acc: 0.9967\n",
      "Epoch 34/100\n",
      "1527/1527 [==============================] - 0s 31us/step - loss: 0.0531 - acc: 0.9967\n",
      "Epoch 35/100\n",
      "1527/1527 [==============================] - 0s 32us/step - loss: 0.0531 - acc: 0.9967\n",
      "Epoch 36/100\n",
      "1527/1527 [==============================] - 0s 34us/step - loss: 0.0531 - acc: 0.9967\n",
      "Epoch 37/100\n",
      "1527/1527 [==============================] - 0s 31us/step - loss: 0.0531 - acc: 0.9967\n",
      "Epoch 38/100\n",
      "1527/1527 [==============================] - 0s 31us/step - loss: 0.0530 - acc: 0.9967\n",
      "Epoch 39/100\n",
      "1527/1527 [==============================] - 0s 34us/step - loss: 0.0530 - acc: 0.9967\n",
      "Epoch 40/100\n",
      "1527/1527 [==============================] - 0s 52us/step - loss: 0.0530 - acc: 0.9967\n",
      "Epoch 41/100\n",
      "1527/1527 [==============================] - 0s 53us/step - loss: 0.0530 - acc: 0.9967\n",
      "Epoch 42/100\n",
      "1527/1527 [==============================] - 0s 55us/step - loss: 0.0530 - acc: 0.9967\n",
      "Epoch 43/100\n",
      "1527/1527 [==============================] - 0s 55us/step - loss: 0.0530 - acc: 0.9967\n",
      "Epoch 44/100\n",
      "1527/1527 [==============================] - 0s 58us/step - loss: 0.0530 - acc: 0.9967\n",
      "Epoch 45/100\n",
      "1527/1527 [==============================] - 0s 60us/step - loss: 0.0530 - acc: 0.9967\n",
      "Epoch 46/100\n",
      "1527/1527 [==============================] - 0s 54us/step - loss: 0.0530 - acc: 0.9967\n",
      "Epoch 47/100\n",
      "1527/1527 [==============================] - 0s 52us/step - loss: 0.0530 - acc: 0.9967\n",
      "Epoch 48/100\n",
      "1527/1527 [==============================] - 0s 55us/step - loss: 0.0530 - acc: 0.9967\n",
      "Epoch 49/100\n",
      "1527/1527 [==============================] - 0s 43us/step - loss: 0.0530 - acc: 0.9967\n",
      "Epoch 50/100\n",
      "1527/1527 [==============================] - 0s 34us/step - loss: 0.0530 - acc: 0.9967\n",
      "Epoch 51/100\n",
      "1527/1527 [==============================] - 0s 32us/step - loss: 0.0530 - acc: 0.9967\n",
      "Epoch 52/100\n",
      "1527/1527 [==============================] - 0s 32us/step - loss: 0.0530 - acc: 0.9967\n",
      "Epoch 53/100\n",
      "1527/1527 [==============================] - 0s 30us/step - loss: 0.0530 - acc: 0.9967\n",
      "Epoch 54/100\n",
      "1527/1527 [==============================] - 0s 32us/step - loss: 0.0530 - acc: 0.9967\n",
      "Epoch 55/100\n",
      "1527/1527 [==============================] - 0s 31us/step - loss: 0.0530 - acc: 0.9967\n",
      "Epoch 56/100\n",
      "1527/1527 [==============================] - 0s 31us/step - loss: 0.0530 - acc: 0.9967\n",
      "Epoch 57/100\n",
      "1527/1527 [==============================] - 0s 34us/step - loss: 0.0530 - acc: 0.9967\n",
      "Epoch 58/100\n",
      "1527/1527 [==============================] - 0s 34us/step - loss: 0.0530 - acc: 0.9967\n",
      "Epoch 59/100\n",
      "1527/1527 [==============================] - 0s 34us/step - loss: 0.0530 - acc: 0.9967\n",
      "Epoch 60/100\n",
      "1527/1527 [==============================] - 0s 34us/step - loss: 0.0530 - acc: 0.9967\n",
      "Epoch 61/100\n",
      "1527/1527 [==============================] - 0s 31us/step - loss: 0.0530 - acc: 0.9967\n",
      "Epoch 62/100\n",
      "1527/1527 [==============================] - 0s 33us/step - loss: 0.0529 - acc: 0.9967\n",
      "Epoch 63/100\n",
      "1527/1527 [==============================] - 0s 36us/step - loss: 0.0529 - acc: 0.9967\n",
      "Epoch 64/100\n",
      "1527/1527 [==============================] - 0s 42us/step - loss: 0.0529 - acc: 0.9967\n",
      "Epoch 65/100\n",
      "1527/1527 [==============================] - 0s 39us/step - loss: 0.0529 - acc: 0.9967\n",
      "Epoch 66/100\n",
      "1527/1527 [==============================] - 0s 34us/step - loss: 0.0529 - acc: 0.9967\n",
      "Epoch 67/100\n",
      "1527/1527 [==============================] - 0s 33us/step - loss: 0.0529 - acc: 0.9967\n",
      "Epoch 68/100\n",
      "1527/1527 [==============================] - 0s 33us/step - loss: 0.0529 - acc: 0.9967\n",
      "Epoch 69/100\n",
      "1527/1527 [==============================] - 0s 37us/step - loss: 0.0529 - acc: 0.9967\n",
      "Epoch 70/100\n",
      "1527/1527 [==============================] - 0s 38us/step - loss: 0.0529 - acc: 0.9967\n",
      "Epoch 71/100\n",
      "1527/1527 [==============================] - 0s 36us/step - loss: 0.0529 - acc: 0.9967\n",
      "Epoch 72/100\n",
      "1527/1527 [==============================] - 0s 34us/step - loss: 0.0529 - acc: 0.9967\n",
      "Epoch 73/100\n",
      "1527/1527 [==============================] - 0s 34us/step - loss: 0.0529 - acc: 0.9967\n",
      "Epoch 74/100\n",
      "1527/1527 [==============================] - 0s 33us/step - loss: 0.0529 - acc: 0.9967\n",
      "Epoch 75/100\n",
      "1527/1527 [==============================] - 0s 36us/step - loss: 0.0529 - acc: 0.9967\n",
      "Epoch 76/100\n",
      "1527/1527 [==============================] - 0s 38us/step - loss: 0.0529 - acc: 0.9967\n",
      "Epoch 77/100\n",
      "1527/1527 [==============================] - 0s 32us/step - loss: 0.0529 - acc: 0.9967\n",
      "Epoch 78/100\n",
      "1527/1527 [==============================] - 0s 33us/step - loss: 0.0529 - acc: 0.9967\n",
      "Epoch 79/100\n",
      "1527/1527 [==============================] - 0s 33us/step - loss: 0.0529 - acc: 0.9967\n",
      "Epoch 80/100\n",
      "1527/1527 [==============================] - 0s 39us/step - loss: 0.0529 - acc: 0.9967\n",
      "Epoch 81/100\n",
      "1527/1527 [==============================] - 0s 45us/step - loss: 0.0529 - acc: 0.9967\n",
      "Epoch 82/100\n",
      "1527/1527 [==============================] - 0s 52us/step - loss: 0.0529 - acc: 0.9967\n",
      "Epoch 83/100\n"
     ]
    },
    {
     "name": "stdout",
     "output_type": "stream",
     "text": [
      "1527/1527 [==============================] - 0s 45us/step - loss: 0.0529 - acc: 0.9967\n",
      "Epoch 84/100\n",
      "1527/1527 [==============================] - 0s 46us/step - loss: 0.0529 - acc: 0.9967\n",
      "Epoch 85/100\n",
      "1527/1527 [==============================] - 0s 43us/step - loss: 0.0529 - acc: 0.9967\n",
      "Epoch 86/100\n",
      "1527/1527 [==============================] - 0s 36us/step - loss: 0.0529 - acc: 0.9967\n",
      "Epoch 87/100\n",
      "1527/1527 [==============================] - 0s 34us/step - loss: 0.0529 - acc: 0.9967\n",
      "Epoch 88/100\n",
      "1527/1527 [==============================] - 0s 29us/step - loss: 0.0529 - acc: 0.9967\n",
      "Epoch 89/100\n",
      "1527/1527 [==============================] - 0s 34us/step - loss: 0.0529 - acc: 0.9967\n",
      "Epoch 90/100\n",
      "1527/1527 [==============================] - 0s 29us/step - loss: 0.0529 - acc: 0.9967\n",
      "Epoch 91/100\n",
      "1527/1527 [==============================] - 0s 38us/step - loss: 0.0529 - acc: 0.9967\n",
      "Epoch 92/100\n",
      "1527/1527 [==============================] - 0s 37us/step - loss: 0.0529 - acc: 0.9967\n",
      "Epoch 93/100\n",
      "1527/1527 [==============================] - 0s 39us/step - loss: 0.0529 - acc: 0.9967\n",
      "Epoch 94/100\n",
      "1527/1527 [==============================] - 0s 34us/step - loss: 0.0529 - acc: 0.9967\n",
      "Epoch 95/100\n",
      "1527/1527 [==============================] - 0s 35us/step - loss: 0.0529 - acc: 0.9967\n",
      "Epoch 96/100\n",
      "1527/1527 [==============================] - 0s 40us/step - loss: 0.0529 - acc: 0.9967\n",
      "Epoch 97/100\n",
      "1527/1527 [==============================] - 0s 46us/step - loss: 0.0529 - acc: 0.9967\n",
      "Epoch 98/100\n",
      "1527/1527 [==============================] - 0s 59us/step - loss: 0.0529 - acc: 0.9967\n",
      "Epoch 99/100\n",
      "1527/1527 [==============================] - 0s 61us/step - loss: 0.0529 - acc: 0.9967\n",
      "Epoch 100/100\n",
      "1527/1527 [==============================] - 0s 51us/step - loss: 0.0529 - acc: 0.9967\n"
     ]
    }
   ],
   "source": [
    "from keras.models import Sequential\n",
    "from keras.layers.core import Dense, Activation\n",
    "from keras import optimizers\n",
    "\n",
    "N = X_train.shape[1]\n",
    "H = 100\n",
    "K = 10\n",
    "\n",
    "model = Sequential()\n",
    "model.add(Dense(H, input_dim=N))\n",
    "model.add(Activation(\"relu\"))\n",
    "model.add(Dense(K))\n",
    "model.add(Activation(\"softmax\"))\n",
    "\n",
    "model.compile(optimizer=optimizers.SGD(lr=0.1, momentum=0.9),\n",
    "              loss='categorical_crossentropy', metrics=['accuracy'])\n",
    "\n",
    "model.fit(X_train, Y_train, epochs=100, batch_size=32);"
   ]
  },
  {
   "cell_type": "markdown",
   "metadata": {},
   "source": [
    "### b) Exercises: Impact of the Optimizer\n",
    "\n",
    "- Try to decrease the learning rate value by 10 or 100. What do you observe?\n",
    "\n",
    "- Try to increase the learning rate value to make the optimization diverge.\n",
    "\n",
    "- Configure the SGD optimizer to enable a Nesterov momentum of 0.9\n",
    "  \n",
    "Note that the keras API documentation is available at:\n",
    "\n",
    "https://keras.io/\n",
    "\n",
    "It is also possible to learn more about the parameters of a class by using the question mark: type and evaluate:\n",
    "\n",
    "```python\n",
    "optimizers.SGD?\n",
    "```\n",
    "\n",
    "in a jupyter notebook cell."
   ]
  },
  {
   "cell_type": "code",
   "execution_count": 14,
   "metadata": {},
   "outputs": [],
   "source": [
    "optimizers.SGD?"
   ]
  },
  {
   "cell_type": "code",
   "execution_count": null,
   "metadata": {},
   "outputs": [],
   "source": [
    "# %load solutions/keras_sgd_and_momentum.py"
   ]
  },
  {
   "cell_type": "markdown",
   "metadata": {},
   "source": [
    "- Replace the SGD optimizer by the Adam optimizer from keras and run it\n",
    "  with the default parameters.\n",
    "\n",
    "- Add another hidden layer and use the \"Rectified Linear Unit\" for each\n",
    "  hidden layer. Can you still train the model with Adam with its default global\n",
    "  learning rate?\n",
    "\n",
    "- Bonus: try the Adadelta optimizer (no learning rate to set).\n",
    "\n",
    "Hint: use `optimizers.<TAB>` to tab-complete the list of implemented optimizers in Keras."
   ]
  },
  {
   "cell_type": "code",
   "execution_count": null,
   "metadata": {},
   "outputs": [],
   "source": []
  },
  {
   "cell_type": "code",
   "execution_count": null,
   "metadata": {},
   "outputs": [],
   "source": [
    "# %load solutions/keras_adam_and_adadelta.py"
   ]
  },
  {
   "cell_type": "markdown",
   "metadata": {},
   "source": [
    "### c) Exercises: forward pass and generalization\n",
    "\n",
    "- Compute predictions on test set using `model.predict_classes(...)`\n",
    "- Compute average accuracy of the model on the test set"
   ]
  },
  {
   "cell_type": "code",
   "execution_count": null,
   "metadata": {},
   "outputs": [],
   "source": []
  },
  {
   "cell_type": "code",
   "execution_count": 22,
   "metadata": {},
   "outputs": [
    {
     "name": "stdout",
     "output_type": "stream",
     "text": [
      "test acc: 0.9889\n"
     ]
    },
    {
     "data": {
      "image/png": "[encoded data removed]",
      "text/plain": [
       "<Figure size 864x648 with 15 Axes>"
      ]
     },
     "metadata": {
      "needs_background": "light"
     },
     "output_type": "display_data"
    }
   ],
   "source": [
    "# %load solutions/keras_accuracy_on_test_set.py\n",
    "y_predicted = model.predict_classes(X_test, verbose=0)\n",
    "\n",
    "# Let's display the first inputs image, the predicted labels and the true labels\n",
    "plt.figure(figsize=(12, 9))\n",
    "for i in range(15):\n",
    "    plt.subplot(3, 5, i + 1)\n",
    "    plt.imshow(scaler.inverse_transform(X_test[i]).reshape(8, 8),\n",
    "               cmap=plt.cm.gray_r, interpolation='nearest')\n",
    "    plt.title(\"predicted label: %d\\n true label: %d\"\n",
    "              % (y_predicted[i], y_test[i]))\n",
    "    \n",
    "print(\"test acc: %0.4f\" % np.mean(y_predicted == y_test))"
   ]
  },
  {
   "cell_type": "markdown",
   "metadata": {},
   "source": [
    "## d) Home assignment: impact of initialization\n",
    "\n",
    "Let us now study the impact of a bad initialization when training\n",
    "a deep feed forward network.\n",
    "\n",
    "By default Keras dense layers use the \"Glorot Uniform\" initialization\n",
    "strategy to initialize the weight matrices:\n",
    "\n",
    "- each weight coefficient is randomly sampled from [-scale, scale]\n",
    "- scale is proportional to $\\frac{1}{\\sqrt{n_{in} + n_{out}}}$\n",
    "\n",
    "This strategy is known to work well to initialize deep neural networks\n",
    "with \"tanh\" or \"relu\" activation functions and then trained with\n",
    "standard SGD.\n",
    "\n",
    "To assess the impact of initialization let us plug an alternative init\n",
    "scheme into a 2 hidden layers networks with \"tanh\" activations.\n",
    "For the sake of the example let's use normal distributed weights\n",
    "with a manually adjustable scale (standard deviation) and see the\n",
    "impact the scale value:"
   ]
  },
  {
   "cell_type": "code",
   "execution_count": null,
   "metadata": {},
   "outputs": [],
   "source": [
    "from keras import initializers\n",
    "\n",
    "normal_init = initializers.RandomNormal(stddev=0.01)\n",
    "\n",
    "model = Sequential()\n",
    "model.add(Dense(H, input_dim=N, kernel_initializer=normal_init))\n",
    "model.add(Activation(\"tanh\"))\n",
    "model.add(Dense(K, kernel_initializer=normal_init))\n",
    "model.add(Activation(\"tanh\"))\n",
    "model.add(Dense(K, kernel_initializer=normal_init))\n",
    "model.add(Activation(\"softmax\"))\n",
    "\n",
    "model.compile(optimizer=optimizers.SGD(lr=0.1),\n",
    "              loss='categorical_crossentropy')\n",
    "\n",
    "history = model.fit(X_train, Y_train,\n",
    "                    epochs=10, batch_size=32)"
   ]
  },
  {
   "cell_type": "markdown",
   "metadata": {},
   "source": [
    "#### Questions:\n",
    "\n",
    "- Try the following initialization schemes and see whether\n",
    "  the SGD algorithm can successfully train the network or\n",
    "  not:\n",
    "  \n",
    "  - a very small e.g. `scale=1e-3`\n",
    "  - a larger scale e.g. `scale=1` or `10`\n",
    "  - initialize all weights to 0 (constant initialization)\n",
    "  \n",
    "- What do you observe? Can you find an explanation for those\n",
    "  outcomes?\n",
    "\n",
    "- Are better solvers such as SGD with momentum or Adam able\n",
    "  to deal better with such bad initializations?"
   ]
  },
  {
   "cell_type": "code",
   "execution_count": null,
   "metadata": {},
   "outputs": [],
   "source": [
    "# %load solutions/keras_initializations.py"
   ]
  },
  {
   "cell_type": "code",
   "execution_count": null,
   "metadata": {},
   "outputs": [],
   "source": [
    "# %load solutions/keras_initializations_analysis.py"
   ]
  },
  {
   "cell_type": "code",
   "execution_count": null,
   "metadata": {},
   "outputs": [],
   "source": []
  }
 ],
 "metadata": {
  "kernelspec": {
   "display_name": "Python 3",
   "language": "python",
   "name": "python3"
  },
  "language_info": {
   "codemirror_mode": {
    "name": "ipython",
    "version": 3
   },
   "file_extension": ".py",
   "mimetype": "text/x-python",
   "name": "python",
   "nbconvert_exporter": "python",
   "pygments_lexer": "ipython3",
   "version": "3.7.2"
  }
 },
 "nbformat": 4,
 "nbformat_minor": 1
}
